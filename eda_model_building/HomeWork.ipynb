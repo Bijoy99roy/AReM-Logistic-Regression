{
 "cells": [
  {
   "cell_type": "code",
   "execution_count": 1,
   "id": "f3f461f8",
   "metadata": {},
   "outputs": [],
   "source": [
    "import pandas as pd\n",
    "import numpy as np\n",
    "from sklearn.preprocessing import StandardScaler, LabelEncoder\n",
    "from sklearn.model_selection import train_test_split, GridSearchCV\n",
    "from sklearn.metrics import accuracy_score, confusion_matrix, roc_curve, roc_auc_score, classification_report\n",
    "import matplotlib.pyplot as plt\n",
    "from pandas_profiling import ProfileReport\n",
    "import seaborn as sns\n",
    "from sklearn.linear_model import LogisticRegression\n",
    "import os"
   ]
  },
  {
   "cell_type": "code",
   "execution_count": 2,
   "id": "2ac86bee",
   "metadata": {},
   "outputs": [],
   "source": [
    "file_path=\"C:\\\\Users\\\\bijoy\\\\OneDrive\\\\Desktop\\\\Logistic regression\\\\AReM\""
   ]
  },
  {
   "cell_type": "code",
   "execution_count": 3,
   "id": "6c14fc91",
   "metadata": {},
   "outputs": [
    {
     "name": "stderr",
     "output_type": "stream",
     "text": [
      "b'Skipping line 485: expected 7 fields, saw 8\\n'\n",
      "b'Skipping line 485: expected 7 fields, saw 8\\n'\n"
     ]
    }
   ],
   "source": [
    "folders = [i for i in os.listdir(file_path) if os.path.isdir(file_path+\"\\\\\"+i)]\n",
    "dataframe = pd.DataFrame()\n",
    "for folder in folders:\n",
    "    df = pd.DataFrame()\n",
    "    for file in os.listdir(file_path+\"\\\\\"+folder):\n",
    "        data = pd.read_csv(file_path+\"\\\\\"+folder+\"\\\\\"+file, skiprows=[0,1,2,3], error_bad_lines=False)\n",
    "        df = pd.concat([df,data])\n",
    "    df['label'] = folder\n",
    "    dataframe = pd.concat([dataframe, df])"
   ]
  },
  {
   "cell_type": "code",
   "execution_count": 4,
   "id": "25e784d2",
   "metadata": {},
   "outputs": [
    {
     "data": {
      "text/html": [
       "<div>\n",
       "<style scoped>\n",
       "    .dataframe tbody tr th:only-of-type {\n",
       "        vertical-align: middle;\n",
       "    }\n",
       "\n",
       "    .dataframe tbody tr th {\n",
       "        vertical-align: top;\n",
       "    }\n",
       "\n",
       "    .dataframe thead th {\n",
       "        text-align: right;\n",
       "    }\n",
       "</style>\n",
       "<table border=\"1\" class=\"dataframe\">\n",
       "  <thead>\n",
       "    <tr style=\"text-align: right;\">\n",
       "      <th></th>\n",
       "      <th># Columns: time</th>\n",
       "      <th>avg_rss12</th>\n",
       "      <th>var_rss12</th>\n",
       "      <th>avg_rss13</th>\n",
       "      <th>var_rss13</th>\n",
       "      <th>avg_rss23</th>\n",
       "      <th>var_rss23</th>\n",
       "      <th>label</th>\n",
       "    </tr>\n",
       "  </thead>\n",
       "  <tbody>\n",
       "    <tr>\n",
       "      <th>0</th>\n",
       "      <td>0</td>\n",
       "      <td>39.25</td>\n",
       "      <td>0.43</td>\n",
       "      <td>22.75</td>\n",
       "      <td>0.43</td>\n",
       "      <td>33.75</td>\n",
       "      <td>1.3</td>\n",
       "      <td>bending1</td>\n",
       "    </tr>\n",
       "    <tr>\n",
       "      <th>1</th>\n",
       "      <td>250</td>\n",
       "      <td>39.25</td>\n",
       "      <td>0.43</td>\n",
       "      <td>23.00</td>\n",
       "      <td>0.00</td>\n",
       "      <td>33.00</td>\n",
       "      <td>0.0</td>\n",
       "      <td>bending1</td>\n",
       "    </tr>\n",
       "    <tr>\n",
       "      <th>2</th>\n",
       "      <td>500</td>\n",
       "      <td>39.25</td>\n",
       "      <td>0.43</td>\n",
       "      <td>23.25</td>\n",
       "      <td>0.43</td>\n",
       "      <td>33.00</td>\n",
       "      <td>0.0</td>\n",
       "      <td>bending1</td>\n",
       "    </tr>\n",
       "    <tr>\n",
       "      <th>3</th>\n",
       "      <td>750</td>\n",
       "      <td>39.50</td>\n",
       "      <td>0.50</td>\n",
       "      <td>23.00</td>\n",
       "      <td>0.71</td>\n",
       "      <td>33.00</td>\n",
       "      <td>0.0</td>\n",
       "      <td>bending1</td>\n",
       "    </tr>\n",
       "    <tr>\n",
       "      <th>4</th>\n",
       "      <td>1000</td>\n",
       "      <td>39.50</td>\n",
       "      <td>0.50</td>\n",
       "      <td>24.00</td>\n",
       "      <td>0.00</td>\n",
       "      <td>33.00</td>\n",
       "      <td>0.0</td>\n",
       "      <td>bending1</td>\n",
       "    </tr>\n",
       "  </tbody>\n",
       "</table>\n",
       "</div>"
      ],
      "text/plain": [
       "  # Columns: time  avg_rss12  var_rss12  avg_rss13  var_rss13  avg_rss23  \\\n",
       "0               0      39.25       0.43      22.75       0.43      33.75   \n",
       "1             250      39.25       0.43      23.00       0.00      33.00   \n",
       "2             500      39.25       0.43      23.25       0.43      33.00   \n",
       "3             750      39.50       0.50      23.00       0.71      33.00   \n",
       "4            1000      39.50       0.50      24.00       0.00      33.00   \n",
       "\n",
       "   var_rss23     label  \n",
       "0        1.3  bending1  \n",
       "1        0.0  bending1  \n",
       "2        0.0  bending1  \n",
       "3        0.0  bending1  \n",
       "4        0.0  bending1  "
      ]
     },
     "execution_count": 4,
     "metadata": {},
     "output_type": "execute_result"
    }
   ],
   "source": [
    "dataframe.head()"
   ]
  },
  {
   "cell_type": "code",
   "execution_count": 45,
   "id": "3ff79f67",
   "metadata": {},
   "outputs": [
    {
     "data": {
      "text/html": [
       "<div>\n",
       "<style scoped>\n",
       "    .dataframe tbody tr th:only-of-type {\n",
       "        vertical-align: middle;\n",
       "    }\n",
       "\n",
       "    .dataframe tbody tr th {\n",
       "        vertical-align: top;\n",
       "    }\n",
       "\n",
       "    .dataframe thead th {\n",
       "        text-align: right;\n",
       "    }\n",
       "</style>\n",
       "<table border=\"1\" class=\"dataframe\">\n",
       "  <thead>\n",
       "    <tr style=\"text-align: right;\">\n",
       "      <th></th>\n",
       "      <th>avg_rss12</th>\n",
       "      <th>var_rss12</th>\n",
       "      <th>avg_rss13</th>\n",
       "      <th>var_rss13</th>\n",
       "      <th>avg_rss23</th>\n",
       "      <th>var_rss23</th>\n",
       "    </tr>\n",
       "  </thead>\n",
       "  <tbody>\n",
       "    <tr>\n",
       "      <th>count</th>\n",
       "      <td>41757.000000</td>\n",
       "      <td>41757.000000</td>\n",
       "      <td>41757.000000</td>\n",
       "      <td>41757.000000</td>\n",
       "      <td>41757.000000</td>\n",
       "      <td>41757.000000</td>\n",
       "    </tr>\n",
       "    <tr>\n",
       "      <th>mean</th>\n",
       "      <td>39.021258</td>\n",
       "      <td>1.472967</td>\n",
       "      <td>14.348149</td>\n",
       "      <td>1.513225</td>\n",
       "      <td>16.010977</td>\n",
       "      <td>1.631255</td>\n",
       "    </tr>\n",
       "    <tr>\n",
       "      <th>std</th>\n",
       "      <td>6.297586</td>\n",
       "      <td>2.055456</td>\n",
       "      <td>5.414405</td>\n",
       "      <td>1.644267</td>\n",
       "      <td>6.768380</td>\n",
       "      <td>1.642690</td>\n",
       "    </tr>\n",
       "    <tr>\n",
       "      <th>min</th>\n",
       "      <td>0.000000</td>\n",
       "      <td>0.000000</td>\n",
       "      <td>0.000000</td>\n",
       "      <td>0.000000</td>\n",
       "      <td>0.000000</td>\n",
       "      <td>0.000000</td>\n",
       "    </tr>\n",
       "    <tr>\n",
       "      <th>25%</th>\n",
       "      <td>35.250000</td>\n",
       "      <td>0.430000</td>\n",
       "      <td>11.500000</td>\n",
       "      <td>0.430000</td>\n",
       "      <td>12.000000</td>\n",
       "      <td>0.470000</td>\n",
       "    </tr>\n",
       "    <tr>\n",
       "      <th>50%</th>\n",
       "      <td>40.000000</td>\n",
       "      <td>0.500000</td>\n",
       "      <td>15.000000</td>\n",
       "      <td>0.830000</td>\n",
       "      <td>15.750000</td>\n",
       "      <td>1.000000</td>\n",
       "    </tr>\n",
       "    <tr>\n",
       "      <th>75%</th>\n",
       "      <td>44.000000</td>\n",
       "      <td>1.870000</td>\n",
       "      <td>18.000000</td>\n",
       "      <td>2.350000</td>\n",
       "      <td>19.250000</td>\n",
       "      <td>2.360000</td>\n",
       "    </tr>\n",
       "    <tr>\n",
       "      <th>max</th>\n",
       "      <td>56.250000</td>\n",
       "      <td>17.240000</td>\n",
       "      <td>35.000000</td>\n",
       "      <td>11.420000</td>\n",
       "      <td>40.330000</td>\n",
       "      <td>13.610000</td>\n",
       "    </tr>\n",
       "  </tbody>\n",
       "</table>\n",
       "</div>"
      ],
      "text/plain": [
       "          avg_rss12     var_rss12     avg_rss13     var_rss13     avg_rss23  \\\n",
       "count  41757.000000  41757.000000  41757.000000  41757.000000  41757.000000   \n",
       "mean      39.021258      1.472967     14.348149      1.513225     16.010977   \n",
       "std        6.297586      2.055456      5.414405      1.644267      6.768380   \n",
       "min        0.000000      0.000000      0.000000      0.000000      0.000000   \n",
       "25%       35.250000      0.430000     11.500000      0.430000     12.000000   \n",
       "50%       40.000000      0.500000     15.000000      0.830000     15.750000   \n",
       "75%       44.000000      1.870000     18.000000      2.350000     19.250000   \n",
       "max       56.250000     17.240000     35.000000     11.420000     40.330000   \n",
       "\n",
       "          var_rss23  \n",
       "count  41757.000000  \n",
       "mean       1.631255  \n",
       "std        1.642690  \n",
       "min        0.000000  \n",
       "25%        0.470000  \n",
       "50%        1.000000  \n",
       "75%        2.360000  \n",
       "max       13.610000  "
      ]
     },
     "execution_count": 45,
     "metadata": {},
     "output_type": "execute_result"
    }
   ],
   "source": [
    "dataframe.describe()"
   ]
  },
  {
   "cell_type": "code",
   "execution_count": 46,
   "id": "6d9a0c0b",
   "metadata": {},
   "outputs": [
    {
     "data": {
      "text/plain": [
       "# Columns: time     object\n",
       "avg_rss12          float64\n",
       "var_rss12          float64\n",
       "avg_rss13          float64\n",
       "var_rss13          float64\n",
       "avg_rss23          float64\n",
       "var_rss23          float64\n",
       "label               object\n",
       "dtype: object"
      ]
     },
     "execution_count": 46,
     "metadata": {},
     "output_type": "execute_result"
    }
   ],
   "source": [
    "dataframe.dtypes"
   ]
  },
  {
   "cell_type": "code",
   "execution_count": 47,
   "id": "2be80332",
   "metadata": {},
   "outputs": [
    {
     "data": {
      "text/plain": [
       "# Columns: time      0\n",
       "avg_rss12          480\n",
       "var_rss12          480\n",
       "avg_rss13          480\n",
       "var_rss13          480\n",
       "avg_rss23          480\n",
       "var_rss23          480\n",
       "label                0\n",
       "dtype: int64"
      ]
     },
     "execution_count": 47,
     "metadata": {},
     "output_type": "execute_result"
    }
   ],
   "source": [
    "dataframe.isnull().sum()"
   ]
  },
  {
   "cell_type": "markdown",
   "id": "b59d14ac",
   "metadata": {},
   "source": [
    "## Imputing missing values"
   ]
  },
  {
   "cell_type": "code",
   "execution_count": 5,
   "id": "864f8fb3",
   "metadata": {},
   "outputs": [],
   "source": [
    "columns = ['avg_rss12', 'var_rss12', 'avg_rss13', 'var_rss13', 'avg_rss23', 'var_rss23']\n",
    "for i in columns:\n",
    "    dataframe[i] = dataframe[i].replace(np.nan, dataframe[i].mean())"
   ]
  },
  {
   "cell_type": "code",
   "execution_count": 5,
   "id": "ec4cdea2",
   "metadata": {},
   "outputs": [
    {
     "data": {
      "text/plain": [
       "# Columns: time    0\n",
       "avg_rss12          0\n",
       "var_rss12          0\n",
       "avg_rss13          0\n",
       "var_rss13          0\n",
       "avg_rss23          0\n",
       "var_rss23          0\n",
       "label              0\n",
       "dtype: int64"
      ]
     },
     "execution_count": 5,
     "metadata": {},
     "output_type": "execute_result"
    }
   ],
   "source": [
    "dataframe.isnull().sum()"
   ]
  },
  {
   "cell_type": "code",
   "execution_count": 6,
   "id": "3ba3251c",
   "metadata": {},
   "outputs": [],
   "source": [
    "dataframe.drop(['# Columns: time'], axis=1, inplace=True)"
   ]
  },
  {
   "cell_type": "markdown",
   "id": "13b041f6",
   "metadata": {},
   "source": [
    "# Encode output label"
   ]
  },
  {
   "cell_type": "code",
   "execution_count": 7,
   "id": "2669a3d4",
   "metadata": {},
   "outputs": [],
   "source": [
    "encoder = LabelEncoder()\n",
    "dataframe[['label']] = encoder.fit_transform(dataframe['label'])"
   ]
  },
  {
   "cell_type": "code",
   "execution_count": 8,
   "id": "8745fc80",
   "metadata": {},
   "outputs": [
    {
     "data": {
      "text/html": [
       "<div>\n",
       "<style scoped>\n",
       "    .dataframe tbody tr th:only-of-type {\n",
       "        vertical-align: middle;\n",
       "    }\n",
       "\n",
       "    .dataframe tbody tr th {\n",
       "        vertical-align: top;\n",
       "    }\n",
       "\n",
       "    .dataframe thead th {\n",
       "        text-align: right;\n",
       "    }\n",
       "</style>\n",
       "<table border=\"1\" class=\"dataframe\">\n",
       "  <thead>\n",
       "    <tr style=\"text-align: right;\">\n",
       "      <th></th>\n",
       "      <th>avg_rss12</th>\n",
       "      <th>var_rss12</th>\n",
       "      <th>avg_rss13</th>\n",
       "      <th>var_rss13</th>\n",
       "      <th>avg_rss23</th>\n",
       "      <th>var_rss23</th>\n",
       "      <th>label</th>\n",
       "    </tr>\n",
       "  </thead>\n",
       "  <tbody>\n",
       "    <tr>\n",
       "      <th>0</th>\n",
       "      <td>39.25</td>\n",
       "      <td>0.43</td>\n",
       "      <td>22.75</td>\n",
       "      <td>0.43</td>\n",
       "      <td>33.75</td>\n",
       "      <td>1.30</td>\n",
       "      <td>0</td>\n",
       "    </tr>\n",
       "    <tr>\n",
       "      <th>1</th>\n",
       "      <td>39.25</td>\n",
       "      <td>0.43</td>\n",
       "      <td>23.00</td>\n",
       "      <td>0.00</td>\n",
       "      <td>33.00</td>\n",
       "      <td>0.00</td>\n",
       "      <td>0</td>\n",
       "    </tr>\n",
       "    <tr>\n",
       "      <th>2</th>\n",
       "      <td>39.25</td>\n",
       "      <td>0.43</td>\n",
       "      <td>23.25</td>\n",
       "      <td>0.43</td>\n",
       "      <td>33.00</td>\n",
       "      <td>0.00</td>\n",
       "      <td>0</td>\n",
       "    </tr>\n",
       "    <tr>\n",
       "      <th>3</th>\n",
       "      <td>39.50</td>\n",
       "      <td>0.50</td>\n",
       "      <td>23.00</td>\n",
       "      <td>0.71</td>\n",
       "      <td>33.00</td>\n",
       "      <td>0.00</td>\n",
       "      <td>0</td>\n",
       "    </tr>\n",
       "    <tr>\n",
       "      <th>4</th>\n",
       "      <td>39.50</td>\n",
       "      <td>0.50</td>\n",
       "      <td>24.00</td>\n",
       "      <td>0.00</td>\n",
       "      <td>33.00</td>\n",
       "      <td>0.00</td>\n",
       "      <td>0</td>\n",
       "    </tr>\n",
       "    <tr>\n",
       "      <th>...</th>\n",
       "      <td>...</td>\n",
       "      <td>...</td>\n",
       "      <td>...</td>\n",
       "      <td>...</td>\n",
       "      <td>...</td>\n",
       "      <td>...</td>\n",
       "      <td>...</td>\n",
       "    </tr>\n",
       "    <tr>\n",
       "      <th>475</th>\n",
       "      <td>31.50</td>\n",
       "      <td>1.66</td>\n",
       "      <td>12.50</td>\n",
       "      <td>3.20</td>\n",
       "      <td>14.25</td>\n",
       "      <td>4.44</td>\n",
       "      <td>6</td>\n",
       "    </tr>\n",
       "    <tr>\n",
       "      <th>476</th>\n",
       "      <td>27.33</td>\n",
       "      <td>1.25</td>\n",
       "      <td>11.33</td>\n",
       "      <td>0.94</td>\n",
       "      <td>20.00</td>\n",
       "      <td>4.00</td>\n",
       "      <td>6</td>\n",
       "    </tr>\n",
       "    <tr>\n",
       "      <th>477</th>\n",
       "      <td>37.80</td>\n",
       "      <td>7.68</td>\n",
       "      <td>14.20</td>\n",
       "      <td>2.48</td>\n",
       "      <td>17.25</td>\n",
       "      <td>0.83</td>\n",
       "      <td>6</td>\n",
       "    </tr>\n",
       "    <tr>\n",
       "      <th>478</th>\n",
       "      <td>33.75</td>\n",
       "      <td>1.30</td>\n",
       "      <td>15.75</td>\n",
       "      <td>5.21</td>\n",
       "      <td>16.50</td>\n",
       "      <td>2.69</td>\n",
       "      <td>6</td>\n",
       "    </tr>\n",
       "    <tr>\n",
       "      <th>479</th>\n",
       "      <td>32.67</td>\n",
       "      <td>3.09</td>\n",
       "      <td>18.67</td>\n",
       "      <td>0.47</td>\n",
       "      <td>14.00</td>\n",
       "      <td>3.16</td>\n",
       "      <td>6</td>\n",
       "    </tr>\n",
       "  </tbody>\n",
       "</table>\n",
       "<p>42237 rows × 7 columns</p>\n",
       "</div>"
      ],
      "text/plain": [
       "     avg_rss12  var_rss12  avg_rss13  var_rss13  avg_rss23  var_rss23  label\n",
       "0        39.25       0.43      22.75       0.43      33.75       1.30      0\n",
       "1        39.25       0.43      23.00       0.00      33.00       0.00      0\n",
       "2        39.25       0.43      23.25       0.43      33.00       0.00      0\n",
       "3        39.50       0.50      23.00       0.71      33.00       0.00      0\n",
       "4        39.50       0.50      24.00       0.00      33.00       0.00      0\n",
       "..         ...        ...        ...        ...        ...        ...    ...\n",
       "475      31.50       1.66      12.50       3.20      14.25       4.44      6\n",
       "476      27.33       1.25      11.33       0.94      20.00       4.00      6\n",
       "477      37.80       7.68      14.20       2.48      17.25       0.83      6\n",
       "478      33.75       1.30      15.75       5.21      16.50       2.69      6\n",
       "479      32.67       3.09      18.67       0.47      14.00       3.16      6\n",
       "\n",
       "[42237 rows x 7 columns]"
      ]
     },
     "execution_count": 8,
     "metadata": {},
     "output_type": "execute_result"
    }
   ],
   "source": [
    "dataframe"
   ]
  },
  {
   "cell_type": "markdown",
   "id": "cd84e036",
   "metadata": {},
   "source": [
    "# Experiment 1\n",
    "- taking all the features"
   ]
  },
  {
   "cell_type": "markdown",
   "id": "d0163d86",
   "metadata": {},
   "source": [
    "# Remove outliers"
   ]
  },
  {
   "cell_type": "code",
   "execution_count": 52,
   "id": "40e624be",
   "metadata": {},
   "outputs": [
    {
     "data": {
      "text/plain": [
       "<AxesSubplot:>"
      ]
     },
     "execution_count": 52,
     "metadata": {},
     "output_type": "execute_result"
    },
    {
     "data": {
      "image/png": "[encoded data removed]",
      "text/plain": [
       "<Figure size 1440x1440 with 1 Axes>"
      ]
     },
     "metadata": {
      "needs_background": "light"
     },
     "output_type": "display_data"
    }
   ],
   "source": [
    "fig, ax = plt.subplots(figsize=(20,20))\n",
    "sns.boxplot(data=dataframe, ax=ax)"
   ]
  },
  {
   "cell_type": "code",
   "execution_count": 62,
   "id": "71ae1a40",
   "metadata": {},
   "outputs": [],
   "source": [
    "q = dataframe['var_rss12'].quantile(.95)\n",
    "df_new = dataframe[dataframe['var_rss12'] < q]"
   ]
  },
  {
   "cell_type": "code",
   "execution_count": 63,
   "id": "958f8b08",
   "metadata": {},
   "outputs": [
    {
     "data": {
      "text/plain": [
       "<AxesSubplot:>"
      ]
     },
     "execution_count": 63,
     "metadata": {},
     "output_type": "execute_result"
    },
    {
     "data": {
      "image/png": "[encoded data removed]",
      "text/plain": [
       "<Figure size 1440x1440 with 1 Axes>"
      ]
     },
     "metadata": {
      "needs_background": "light"
     },
     "output_type": "display_data"
    }
   ],
   "source": [
    "fig, ax = plt.subplots(figsize=(20,20))\n",
    "sns.boxplot(data=df_new, ax=ax)"
   ]
  },
  {
   "cell_type": "code",
   "execution_count": 64,
   "id": "eddf0e02",
   "metadata": {},
   "outputs": [
    {
     "data": {
      "text/html": [
       "<div>\n",
       "<style scoped>\n",
       "    .dataframe tbody tr th:only-of-type {\n",
       "        vertical-align: middle;\n",
       "    }\n",
       "\n",
       "    .dataframe tbody tr th {\n",
       "        vertical-align: top;\n",
       "    }\n",
       "\n",
       "    .dataframe thead th {\n",
       "        text-align: right;\n",
       "    }\n",
       "</style>\n",
       "<table border=\"1\" class=\"dataframe\">\n",
       "  <thead>\n",
       "    <tr style=\"text-align: right;\">\n",
       "      <th></th>\n",
       "      <th>avg_rss12</th>\n",
       "      <th>var_rss12</th>\n",
       "      <th>avg_rss13</th>\n",
       "      <th>var_rss13</th>\n",
       "      <th>avg_rss23</th>\n",
       "      <th>var_rss23</th>\n",
       "      <th>label</th>\n",
       "    </tr>\n",
       "  </thead>\n",
       "  <tbody>\n",
       "    <tr>\n",
       "      <th>0</th>\n",
       "      <td>39.25</td>\n",
       "      <td>0.43</td>\n",
       "      <td>22.75</td>\n",
       "      <td>0.43</td>\n",
       "      <td>33.75</td>\n",
       "      <td>1.30</td>\n",
       "      <td>0</td>\n",
       "    </tr>\n",
       "    <tr>\n",
       "      <th>1</th>\n",
       "      <td>39.25</td>\n",
       "      <td>0.43</td>\n",
       "      <td>23.00</td>\n",
       "      <td>0.00</td>\n",
       "      <td>33.00</td>\n",
       "      <td>0.00</td>\n",
       "      <td>0</td>\n",
       "    </tr>\n",
       "    <tr>\n",
       "      <th>2</th>\n",
       "      <td>39.25</td>\n",
       "      <td>0.43</td>\n",
       "      <td>23.25</td>\n",
       "      <td>0.43</td>\n",
       "      <td>33.00</td>\n",
       "      <td>0.00</td>\n",
       "      <td>0</td>\n",
       "    </tr>\n",
       "    <tr>\n",
       "      <th>3</th>\n",
       "      <td>39.50</td>\n",
       "      <td>0.50</td>\n",
       "      <td>23.00</td>\n",
       "      <td>0.71</td>\n",
       "      <td>33.00</td>\n",
       "      <td>0.00</td>\n",
       "      <td>0</td>\n",
       "    </tr>\n",
       "    <tr>\n",
       "      <th>4</th>\n",
       "      <td>39.50</td>\n",
       "      <td>0.50</td>\n",
       "      <td>24.00</td>\n",
       "      <td>0.00</td>\n",
       "      <td>33.00</td>\n",
       "      <td>0.00</td>\n",
       "      <td>0</td>\n",
       "    </tr>\n",
       "    <tr>\n",
       "      <th>...</th>\n",
       "      <td>...</td>\n",
       "      <td>...</td>\n",
       "      <td>...</td>\n",
       "      <td>...</td>\n",
       "      <td>...</td>\n",
       "      <td>...</td>\n",
       "      <td>...</td>\n",
       "    </tr>\n",
       "    <tr>\n",
       "      <th>473</th>\n",
       "      <td>36.00</td>\n",
       "      <td>2.45</td>\n",
       "      <td>14.75</td>\n",
       "      <td>4.55</td>\n",
       "      <td>14.67</td>\n",
       "      <td>3.40</td>\n",
       "      <td>6</td>\n",
       "    </tr>\n",
       "    <tr>\n",
       "      <th>475</th>\n",
       "      <td>31.50</td>\n",
       "      <td>1.66</td>\n",
       "      <td>12.50</td>\n",
       "      <td>3.20</td>\n",
       "      <td>14.25</td>\n",
       "      <td>4.44</td>\n",
       "      <td>6</td>\n",
       "    </tr>\n",
       "    <tr>\n",
       "      <th>476</th>\n",
       "      <td>27.33</td>\n",
       "      <td>1.25</td>\n",
       "      <td>11.33</td>\n",
       "      <td>0.94</td>\n",
       "      <td>20.00</td>\n",
       "      <td>4.00</td>\n",
       "      <td>6</td>\n",
       "    </tr>\n",
       "    <tr>\n",
       "      <th>478</th>\n",
       "      <td>33.75</td>\n",
       "      <td>1.30</td>\n",
       "      <td>15.75</td>\n",
       "      <td>5.21</td>\n",
       "      <td>16.50</td>\n",
       "      <td>2.69</td>\n",
       "      <td>6</td>\n",
       "    </tr>\n",
       "    <tr>\n",
       "      <th>479</th>\n",
       "      <td>32.67</td>\n",
       "      <td>3.09</td>\n",
       "      <td>18.67</td>\n",
       "      <td>0.47</td>\n",
       "      <td>14.00</td>\n",
       "      <td>3.16</td>\n",
       "      <td>6</td>\n",
       "    </tr>\n",
       "  </tbody>\n",
       "</table>\n",
       "<p>40078 rows × 7 columns</p>\n",
       "</div>"
      ],
      "text/plain": [
       "     avg_rss12  var_rss12  avg_rss13  var_rss13  avg_rss23  var_rss23  label\n",
       "0        39.25       0.43      22.75       0.43      33.75       1.30      0\n",
       "1        39.25       0.43      23.00       0.00      33.00       0.00      0\n",
       "2        39.25       0.43      23.25       0.43      33.00       0.00      0\n",
       "3        39.50       0.50      23.00       0.71      33.00       0.00      0\n",
       "4        39.50       0.50      24.00       0.00      33.00       0.00      0\n",
       "..         ...        ...        ...        ...        ...        ...    ...\n",
       "473      36.00       2.45      14.75       4.55      14.67       3.40      6\n",
       "475      31.50       1.66      12.50       3.20      14.25       4.44      6\n",
       "476      27.33       1.25      11.33       0.94      20.00       4.00      6\n",
       "478      33.75       1.30      15.75       5.21      16.50       2.69      6\n",
       "479      32.67       3.09      18.67       0.47      14.00       3.16      6\n",
       "\n",
       "[40078 rows x 7 columns]"
      ]
     },
     "execution_count": 64,
     "metadata": {},
     "output_type": "execute_result"
    }
   ],
   "source": [
    "df_new"
   ]
  },
  {
   "cell_type": "code",
   "execution_count": 65,
   "id": "bc7ec707",
   "metadata": {},
   "outputs": [],
   "source": [
    "q = df_new['avg_rss23'].quantile(.95)\n",
    "df_new = df_new[df_new['avg_rss23'] < q]"
   ]
  },
  {
   "cell_type": "code",
   "execution_count": 66,
   "id": "9d0e5fd4",
   "metadata": {},
   "outputs": [
    {
     "data": {
      "text/plain": [
       "<AxesSubplot:>"
      ]
     },
     "execution_count": 66,
     "metadata": {},
     "output_type": "execute_result"
    },
    {
     "data": {
      "image/png": "[encoded data removed]",
      "text/plain": [
       "<Figure size 1440x1440 with 1 Axes>"
      ]
     },
     "metadata": {
      "needs_background": "light"
     },
     "output_type": "display_data"
    }
   ],
   "source": [
    "fig, ax = plt.subplots(figsize=(20,20))\n",
    "sns.boxplot(data=df_new, ax=ax)"
   ]
  },
  {
   "cell_type": "code",
   "execution_count": 67,
   "id": "6fc1060a",
   "metadata": {},
   "outputs": [],
   "source": [
    "q = df_new['var_rss23'].quantile(.98)\n",
    "df_new = df_new[df_new['var_rss23'] < q]"
   ]
  },
  {
   "cell_type": "code",
   "execution_count": 68,
   "id": "34e2aa1c",
   "metadata": {},
   "outputs": [
    {
     "data": {
      "text/plain": [
       "<AxesSubplot:>"
      ]
     },
     "execution_count": 68,
     "metadata": {},
     "output_type": "execute_result"
    },
    {
     "data": {
      "image/png": "[encoded data removed]",
      "text/plain": [
       "<Figure size 1440x1440 with 1 Axes>"
      ]
     },
     "metadata": {
      "needs_background": "light"
     },
     "output_type": "display_data"
    }
   ],
   "source": [
    "fig, ax = plt.subplots(figsize=(20,20))\n",
    "sns.boxplot(data=df_new, ax=ax)"
   ]
  },
  {
   "cell_type": "code",
   "execution_count": 69,
   "id": "3f8665be",
   "metadata": {},
   "outputs": [],
   "source": [
    "q = df_new['avg_rss12'].quantile(.02)\n",
    "df_new = df_new[df_new['avg_rss12'] > q]"
   ]
  },
  {
   "cell_type": "code",
   "execution_count": 70,
   "id": "de74e106",
   "metadata": {},
   "outputs": [
    {
     "data": {
      "text/plain": [
       "<AxesSubplot:>"
      ]
     },
     "execution_count": 70,
     "metadata": {},
     "output_type": "execute_result"
    },
    {
     "data": {
      "image/png": "[encoded data removed]",
      "text/plain": [
       "<Figure size 1440x1440 with 1 Axes>"
      ]
     },
     "metadata": {
      "needs_background": "light"
     },
     "output_type": "display_data"
    }
   ],
   "source": [
    "fig, ax = plt.subplots(figsize=(20,20))\n",
    "sns.boxplot(data=df_new, ax=ax)"
   ]
  },
  {
   "cell_type": "code",
   "execution_count": 72,
   "id": "e705fc5d",
   "metadata": {},
   "outputs": [],
   "source": [
    "q = df_new['var_rss13'].quantile(.99)\n",
    "df_new = df_new[df_new['var_rss13'] < q]"
   ]
  },
  {
   "cell_type": "code",
   "execution_count": 73,
   "id": "28dfae6b",
   "metadata": {},
   "outputs": [
    {
     "data": {
      "text/plain": [
       "<AxesSubplot:>"
      ]
     },
     "execution_count": 73,
     "metadata": {},
     "output_type": "execute_result"
    },
    {
     "data": {
      "image/png": "[encoded data removed]",
      "text/plain": [
       "<Figure size 1440x1440 with 1 Axes>"
      ]
     },
     "metadata": {
      "needs_background": "light"
     },
     "output_type": "display_data"
    }
   ],
   "source": [
    "fig, ax = plt.subplots(figsize=(20,20))\n",
    "sns.boxplot(data=df_new, ax=ax)"
   ]
  },
  {
   "cell_type": "code",
   "execution_count": 74,
   "id": "456a3238",
   "metadata": {},
   "outputs": [
    {
     "data": {
      "text/html": [
       "<div>\n",
       "<style scoped>\n",
       "    .dataframe tbody tr th:only-of-type {\n",
       "        vertical-align: middle;\n",
       "    }\n",
       "\n",
       "    .dataframe tbody tr th {\n",
       "        vertical-align: top;\n",
       "    }\n",
       "\n",
       "    .dataframe thead th {\n",
       "        text-align: right;\n",
       "    }\n",
       "</style>\n",
       "<table border=\"1\" class=\"dataframe\">\n",
       "  <thead>\n",
       "    <tr style=\"text-align: right;\">\n",
       "      <th></th>\n",
       "      <th>avg_rss12</th>\n",
       "      <th>var_rss12</th>\n",
       "      <th>avg_rss13</th>\n",
       "      <th>var_rss13</th>\n",
       "      <th>avg_rss23</th>\n",
       "      <th>var_rss23</th>\n",
       "      <th>label</th>\n",
       "    </tr>\n",
       "  </thead>\n",
       "  <tbody>\n",
       "    <tr>\n",
       "      <th>406</th>\n",
       "      <td>42.75</td>\n",
       "      <td>1.30</td>\n",
       "      <td>23.75</td>\n",
       "      <td>1.48</td>\n",
       "      <td>29.75</td>\n",
       "      <td>0.43</td>\n",
       "      <td>0</td>\n",
       "    </tr>\n",
       "    <tr>\n",
       "      <th>407</th>\n",
       "      <td>42.00</td>\n",
       "      <td>0.00</td>\n",
       "      <td>21.67</td>\n",
       "      <td>0.47</td>\n",
       "      <td>29.67</td>\n",
       "      <td>0.47</td>\n",
       "      <td>0</td>\n",
       "    </tr>\n",
       "    <tr>\n",
       "      <th>409</th>\n",
       "      <td>42.00</td>\n",
       "      <td>0.00</td>\n",
       "      <td>24.00</td>\n",
       "      <td>0.00</td>\n",
       "      <td>29.75</td>\n",
       "      <td>0.43</td>\n",
       "      <td>0</td>\n",
       "    </tr>\n",
       "    <tr>\n",
       "      <th>410</th>\n",
       "      <td>42.00</td>\n",
       "      <td>0.00</td>\n",
       "      <td>22.50</td>\n",
       "      <td>0.50</td>\n",
       "      <td>29.75</td>\n",
       "      <td>0.43</td>\n",
       "      <td>0</td>\n",
       "    </tr>\n",
       "    <tr>\n",
       "      <th>412</th>\n",
       "      <td>42.00</td>\n",
       "      <td>0.00</td>\n",
       "      <td>22.50</td>\n",
       "      <td>1.12</td>\n",
       "      <td>29.75</td>\n",
       "      <td>0.43</td>\n",
       "      <td>0</td>\n",
       "    </tr>\n",
       "    <tr>\n",
       "      <th>...</th>\n",
       "      <td>...</td>\n",
       "      <td>...</td>\n",
       "      <td>...</td>\n",
       "      <td>...</td>\n",
       "      <td>...</td>\n",
       "      <td>...</td>\n",
       "      <td>...</td>\n",
       "    </tr>\n",
       "    <tr>\n",
       "      <th>473</th>\n",
       "      <td>36.00</td>\n",
       "      <td>2.45</td>\n",
       "      <td>14.75</td>\n",
       "      <td>4.55</td>\n",
       "      <td>14.67</td>\n",
       "      <td>3.40</td>\n",
       "      <td>6</td>\n",
       "    </tr>\n",
       "    <tr>\n",
       "      <th>475</th>\n",
       "      <td>31.50</td>\n",
       "      <td>1.66</td>\n",
       "      <td>12.50</td>\n",
       "      <td>3.20</td>\n",
       "      <td>14.25</td>\n",
       "      <td>4.44</td>\n",
       "      <td>6</td>\n",
       "    </tr>\n",
       "    <tr>\n",
       "      <th>476</th>\n",
       "      <td>27.33</td>\n",
       "      <td>1.25</td>\n",
       "      <td>11.33</td>\n",
       "      <td>0.94</td>\n",
       "      <td>20.00</td>\n",
       "      <td>4.00</td>\n",
       "      <td>6</td>\n",
       "    </tr>\n",
       "    <tr>\n",
       "      <th>478</th>\n",
       "      <td>33.75</td>\n",
       "      <td>1.30</td>\n",
       "      <td>15.75</td>\n",
       "      <td>5.21</td>\n",
       "      <td>16.50</td>\n",
       "      <td>2.69</td>\n",
       "      <td>6</td>\n",
       "    </tr>\n",
       "    <tr>\n",
       "      <th>479</th>\n",
       "      <td>32.67</td>\n",
       "      <td>3.09</td>\n",
       "      <td>18.67</td>\n",
       "      <td>0.47</td>\n",
       "      <td>14.00</td>\n",
       "      <td>3.16</td>\n",
       "      <td>6</td>\n",
       "    </tr>\n",
       "  </tbody>\n",
       "</table>\n",
       "<p>35986 rows × 7 columns</p>\n",
       "</div>"
      ],
      "text/plain": [
       "     avg_rss12  var_rss12  avg_rss13  var_rss13  avg_rss23  var_rss23  label\n",
       "406      42.75       1.30      23.75       1.48      29.75       0.43      0\n",
       "407      42.00       0.00      21.67       0.47      29.67       0.47      0\n",
       "409      42.00       0.00      24.00       0.00      29.75       0.43      0\n",
       "410      42.00       0.00      22.50       0.50      29.75       0.43      0\n",
       "412      42.00       0.00      22.50       1.12      29.75       0.43      0\n",
       "..         ...        ...        ...        ...        ...        ...    ...\n",
       "473      36.00       2.45      14.75       4.55      14.67       3.40      6\n",
       "475      31.50       1.66      12.50       3.20      14.25       4.44      6\n",
       "476      27.33       1.25      11.33       0.94      20.00       4.00      6\n",
       "478      33.75       1.30      15.75       5.21      16.50       2.69      6\n",
       "479      32.67       3.09      18.67       0.47      14.00       3.16      6\n",
       "\n",
       "[35986 rows x 7 columns]"
      ]
     },
     "execution_count": 74,
     "metadata": {},
     "output_type": "execute_result"
    }
   ],
   "source": [
    "df_new"
   ]
  },
  {
   "cell_type": "code",
   "execution_count": 75,
   "id": "d25aa2d6",
   "metadata": {},
   "outputs": [
    {
     "name": "stderr",
     "output_type": "stream",
     "text": [
      "C:\\Users\\bijoy\\anaconda3\\lib\\site-packages\\pandas\\core\\frame.py:3191: SettingWithCopyWarning: \n",
      "A value is trying to be set on a copy of a slice from a DataFrame.\n",
      "Try using .loc[row_indexer,col_indexer] = value instead\n",
      "\n",
      "See the caveats in the documentation: https://pandas.pydata.org/pandas-docs/stable/user_guide/indexing.html#returning-a-view-versus-a-copy\n",
      "  self[k1] = value[k2]\n"
     ]
    }
   ],
   "source": [
    "columns = ['avg_rss12', 'var_rss12', 'avg_rss13', 'var_rss13', 'avg_rss23', 'var_rss23']\n",
    "scaler = StandardScaler()\n",
    "df_new[columns] = pd.DataFrame(scaler.fit_transform(df_new[columns]), columns=columns)"
   ]
  },
  {
   "cell_type": "code",
   "execution_count": 76,
   "id": "515f52a8",
   "metadata": {},
   "outputs": [
    {
     "data": {
      "text/html": [
       "<div>\n",
       "<style scoped>\n",
       "    .dataframe tbody tr th:only-of-type {\n",
       "        vertical-align: middle;\n",
       "    }\n",
       "\n",
       "    .dataframe tbody tr th {\n",
       "        vertical-align: top;\n",
       "    }\n",
       "\n",
       "    .dataframe thead th {\n",
       "        text-align: right;\n",
       "    }\n",
       "</style>\n",
       "<table border=\"1\" class=\"dataframe\">\n",
       "  <thead>\n",
       "    <tr style=\"text-align: right;\">\n",
       "      <th></th>\n",
       "      <th>avg_rss12</th>\n",
       "      <th>var_rss12</th>\n",
       "      <th>avg_rss13</th>\n",
       "      <th>var_rss13</th>\n",
       "      <th>avg_rss23</th>\n",
       "      <th>var_rss23</th>\n",
       "      <th>label</th>\n",
       "    </tr>\n",
       "  </thead>\n",
       "  <tbody>\n",
       "    <tr>\n",
       "      <th>406</th>\n",
       "      <td>0.916502</td>\n",
       "      <td>-0.791865</td>\n",
       "      <td>0.696764</td>\n",
       "      <td>0.293482</td>\n",
       "      <td>1.671857</td>\n",
       "      <td>0.293183</td>\n",
       "      <td>0</td>\n",
       "    </tr>\n",
       "    <tr>\n",
       "      <th>407</th>\n",
       "      <td>0.916502</td>\n",
       "      <td>-0.791865</td>\n",
       "      <td>1.214318</td>\n",
       "      <td>-0.364942</td>\n",
       "      <td>1.260090</td>\n",
       "      <td>-0.462827</td>\n",
       "      <td>0</td>\n",
       "    </tr>\n",
       "    <tr>\n",
       "      <th>409</th>\n",
       "      <td>0.916502</td>\n",
       "      <td>-0.791865</td>\n",
       "      <td>0.932016</td>\n",
       "      <td>-0.636456</td>\n",
       "      <td>1.763361</td>\n",
       "      <td>-0.702715</td>\n",
       "      <td>0</td>\n",
       "    </tr>\n",
       "    <tr>\n",
       "      <th>410</th>\n",
       "      <td>0.916502</td>\n",
       "      <td>-0.791865</td>\n",
       "      <td>0.852972</td>\n",
       "      <td>-0.609305</td>\n",
       "      <td>1.611465</td>\n",
       "      <td>-0.724523</td>\n",
       "      <td>0</td>\n",
       "    </tr>\n",
       "    <tr>\n",
       "      <th>412</th>\n",
       "      <td>0.916502</td>\n",
       "      <td>-0.791865</td>\n",
       "      <td>0.932016</td>\n",
       "      <td>-0.364942</td>\n",
       "      <td>1.305842</td>\n",
       "      <td>-0.041206</td>\n",
       "      <td>0</td>\n",
       "    </tr>\n",
       "    <tr>\n",
       "      <th>...</th>\n",
       "      <td>...</td>\n",
       "      <td>...</td>\n",
       "      <td>...</td>\n",
       "      <td>...</td>\n",
       "      <td>...</td>\n",
       "      <td>...</td>\n",
       "      <td>...</td>\n",
       "    </tr>\n",
       "    <tr>\n",
       "      <th>473</th>\n",
       "      <td>0.959145</td>\n",
       "      <td>-0.489123</td>\n",
       "      <td>1.120218</td>\n",
       "      <td>-0.045912</td>\n",
       "      <td>1.534601</td>\n",
       "      <td>-0.462827</td>\n",
       "      <td>6</td>\n",
       "    </tr>\n",
       "    <tr>\n",
       "      <th>475</th>\n",
       "      <td>0.575359</td>\n",
       "      <td>-0.291988</td>\n",
       "      <td>1.778923</td>\n",
       "      <td>-0.045912</td>\n",
       "      <td>1.168586</td>\n",
       "      <td>-0.753601</td>\n",
       "      <td>6</td>\n",
       "    </tr>\n",
       "    <tr>\n",
       "      <th>476</th>\n",
       "      <td>0.618002</td>\n",
       "      <td>-0.207502</td>\n",
       "      <td>1.229374</td>\n",
       "      <td>-0.290275</td>\n",
       "      <td>1.245450</td>\n",
       "      <td>-0.382865</td>\n",
       "      <td>6</td>\n",
       "    </tr>\n",
       "    <tr>\n",
       "      <th>478</th>\n",
       "      <td>0.745930</td>\n",
       "      <td>-0.291988</td>\n",
       "      <td>-0.338344</td>\n",
       "      <td>-0.446396</td>\n",
       "      <td>1.305842</td>\n",
       "      <td>-0.179323</td>\n",
       "      <td>6</td>\n",
       "    </tr>\n",
       "    <tr>\n",
       "      <th>479</th>\n",
       "      <td>0.873859</td>\n",
       "      <td>-0.489123</td>\n",
       "      <td>-0.338344</td>\n",
       "      <td>0.734693</td>\n",
       "      <td>1.183227</td>\n",
       "      <td>0.424031</td>\n",
       "      <td>6</td>\n",
       "    </tr>\n",
       "  </tbody>\n",
       "</table>\n",
       "<p>35986 rows × 7 columns</p>\n",
       "</div>"
      ],
      "text/plain": [
       "     avg_rss12  var_rss12  avg_rss13  var_rss13  avg_rss23  var_rss23  label\n",
       "406   0.916502  -0.791865   0.696764   0.293482   1.671857   0.293183      0\n",
       "407   0.916502  -0.791865   1.214318  -0.364942   1.260090  -0.462827      0\n",
       "409   0.916502  -0.791865   0.932016  -0.636456   1.763361  -0.702715      0\n",
       "410   0.916502  -0.791865   0.852972  -0.609305   1.611465  -0.724523      0\n",
       "412   0.916502  -0.791865   0.932016  -0.364942   1.305842  -0.041206      0\n",
       "..         ...        ...        ...        ...        ...        ...    ...\n",
       "473   0.959145  -0.489123   1.120218  -0.045912   1.534601  -0.462827      6\n",
       "475   0.575359  -0.291988   1.778923  -0.045912   1.168586  -0.753601      6\n",
       "476   0.618002  -0.207502   1.229374  -0.290275   1.245450  -0.382865      6\n",
       "478   0.745930  -0.291988  -0.338344  -0.446396   1.305842  -0.179323      6\n",
       "479   0.873859  -0.489123  -0.338344   0.734693   1.183227   0.424031      6\n",
       "\n",
       "[35986 rows x 7 columns]"
      ]
     },
     "execution_count": 76,
     "metadata": {},
     "output_type": "execute_result"
    }
   ],
   "source": [
    "df_new"
   ]
  },
  {
   "cell_type": "code",
   "execution_count": 77,
   "id": "00817d46",
   "metadata": {},
   "outputs": [],
   "source": [
    "x = df_new.drop(['label'], axis=1)\n",
    "y = df_new['label']"
   ]
  },
  {
   "cell_type": "code",
   "execution_count": 79,
   "id": "685a3c2a",
   "metadata": {},
   "outputs": [],
   "source": [
    "x_train, x_test, y_train, y_test = train_test_split(x, y, test_size=0.3, random_state=42)"
   ]
  },
  {
   "cell_type": "markdown",
   "id": "99bb5df2",
   "metadata": {},
   "source": [
    "# Using saga solver"
   ]
  },
  {
   "cell_type": "code",
   "execution_count": 99,
   "id": "988f8997",
   "metadata": {},
   "outputs": [
    {
     "data": {
      "text/plain": [
       "LogisticRegression(solver='saga')"
      ]
     },
     "execution_count": 99,
     "metadata": {},
     "output_type": "execute_result"
    }
   ],
   "source": [
    "logistic = LogisticRegression(solver='saga')\n",
    "logistic.fit(x_train, y_train)"
   ]
  },
  {
   "cell_type": "code",
   "execution_count": 100,
   "id": "222f564a",
   "metadata": {},
   "outputs": [],
   "source": [
    "y_pred = logistic.predict(x_test)"
   ]
  },
  {
   "cell_type": "code",
   "execution_count": 101,
   "id": "6a1bd743",
   "metadata": {},
   "outputs": [
    {
     "data": {
      "text/plain": [
       "array([5, 5, 5, ..., 4, 3, 4])"
      ]
     },
     "execution_count": 101,
     "metadata": {},
     "output_type": "execute_result"
    }
   ],
   "source": [
    "y_pred"
   ]
  },
  {
   "cell_type": "code",
   "execution_count": 102,
   "id": "9808666b",
   "metadata": {},
   "outputs": [
    {
     "data": {
      "text/plain": [
       "340    6\n",
       "156    4\n",
       "477    6\n",
       "460    2\n",
       "78     2\n",
       "      ..\n",
       "93     6\n",
       "390    6\n",
       "446    5\n",
       "429    3\n",
       "474    5\n",
       "Name: label, Length: 10796, dtype: int32"
      ]
     },
     "execution_count": 102,
     "metadata": {},
     "output_type": "execute_result"
    }
   ],
   "source": [
    "y_test"
   ]
  },
  {
   "cell_type": "code",
   "execution_count": 103,
   "id": "ac57d162",
   "metadata": {},
   "outputs": [
    {
     "data": {
      "text/plain": [
       "array([[  0,   0,   0,  99,  85, 183,   0],\n",
       "       [  0,   0,   0, 201, 176, 307,   0],\n",
       "       [  0,   0,   0, 535, 479, 863,   0],\n",
       "       [  0,   0,   0, 586, 561, 956,   0],\n",
       "       [  0,   0,   0, 608, 537, 984,   0],\n",
       "       [  0,   0,   0, 635, 558, 947,   0],\n",
       "       [  0,   0,   0, 421, 397, 678,   0]], dtype=int64)"
      ]
     },
     "execution_count": 103,
     "metadata": {},
     "output_type": "execute_result"
    }
   ],
   "source": [
    "confusion_matrix(y_test, y_pred)"
   ]
  },
  {
   "cell_type": "code",
   "execution_count": 104,
   "id": "d74ea41c",
   "metadata": {},
   "outputs": [
    {
     "data": {
      "text/plain": [
       "0.19173768062245275"
      ]
     },
     "execution_count": 104,
     "metadata": {},
     "output_type": "execute_result"
    }
   ],
   "source": [
    "accuracy_score(y_test, y_pred)"
   ]
  },
  {
   "cell_type": "code",
   "execution_count": 116,
   "id": "5f1333ac",
   "metadata": {},
   "outputs": [
    {
     "data": {
      "text/plain": [
       "0.5000656125633751"
      ]
     },
     "execution_count": 116,
     "metadata": {},
     "output_type": "execute_result"
    }
   ],
   "source": [
    "roc_auc_score(y_test, logistic.predict_proba(x_test), multi_class='ovr')"
   ]
  },
  {
   "cell_type": "markdown",
   "id": "31b3ba1a",
   "metadata": {},
   "source": [
    "# Using sag solver"
   ]
  },
  {
   "cell_type": "code",
   "execution_count": 105,
   "id": "762db8a7",
   "metadata": {},
   "outputs": [
    {
     "data": {
      "text/plain": [
       "LogisticRegression(solver='sag')"
      ]
     },
     "execution_count": 105,
     "metadata": {},
     "output_type": "execute_result"
    }
   ],
   "source": [
    "logistic_sag = LogisticRegression(solver='sag')\n",
    "logistic_sag.fit(x_train, y_train)"
   ]
  },
  {
   "cell_type": "code",
   "execution_count": 106,
   "id": "a1bd05a9",
   "metadata": {},
   "outputs": [],
   "source": [
    "y_pred = logistic_sag.predict(x_test)"
   ]
  },
  {
   "cell_type": "code",
   "execution_count": 107,
   "id": "40c083a9",
   "metadata": {},
   "outputs": [
    {
     "data": {
      "text/plain": [
       "array([[  0,   0,   0,  99,  85, 183,   0],\n",
       "       [  0,   0,   0, 201, 176, 307,   0],\n",
       "       [  0,   0,   0, 535, 479, 863,   0],\n",
       "       [  0,   0,   0, 586, 561, 956,   0],\n",
       "       [  0,   0,   0, 608, 537, 984,   0],\n",
       "       [  0,   0,   0, 635, 558, 947,   0],\n",
       "       [  0,   0,   0, 421, 397, 678,   0]], dtype=int64)"
      ]
     },
     "execution_count": 107,
     "metadata": {},
     "output_type": "execute_result"
    }
   ],
   "source": [
    "confusion_matrix(y_test, y_pred)"
   ]
  },
  {
   "cell_type": "code",
   "execution_count": 108,
   "id": "82366667",
   "metadata": {},
   "outputs": [
    {
     "data": {
      "text/plain": [
       "0.19173768062245275"
      ]
     },
     "execution_count": 108,
     "metadata": {},
     "output_type": "execute_result"
    }
   ],
   "source": [
    "accuracy_score(y_test, y_pred)"
   ]
  },
  {
   "cell_type": "code",
   "execution_count": 117,
   "id": "1ec0ec88",
   "metadata": {},
   "outputs": [
    {
     "data": {
      "text/plain": [
       "0.5000639816921091"
      ]
     },
     "execution_count": 117,
     "metadata": {},
     "output_type": "execute_result"
    }
   ],
   "source": [
    "roc_auc_score(y_test, logistic_sag.predict_proba(x_test), multi_class='ovr')"
   ]
  },
  {
   "cell_type": "markdown",
   "id": "92c8b19a",
   "metadata": {},
   "source": [
    "# Experiment 2\n",
    "- taking only the original values are discarding the averages"
   ]
  },
  {
   "cell_type": "code",
   "execution_count": 8,
   "id": "2bee11a6",
   "metadata": {},
   "outputs": [],
   "source": [
    "drop = ['avg_rss12', 'avg_rss13', 'avg_rss23']\n",
    "dataframe.drop(drop, axis=1, inplace=True)"
   ]
  },
  {
   "cell_type": "code",
   "execution_count": 9,
   "id": "4e23b856",
   "metadata": {},
   "outputs": [
    {
     "data": {
      "text/html": [
       "<div>\n",
       "<style scoped>\n",
       "    .dataframe tbody tr th:only-of-type {\n",
       "        vertical-align: middle;\n",
       "    }\n",
       "\n",
       "    .dataframe tbody tr th {\n",
       "        vertical-align: top;\n",
       "    }\n",
       "\n",
       "    .dataframe thead th {\n",
       "        text-align: right;\n",
       "    }\n",
       "</style>\n",
       "<table border=\"1\" class=\"dataframe\">\n",
       "  <thead>\n",
       "    <tr style=\"text-align: right;\">\n",
       "      <th></th>\n",
       "      <th>var_rss12</th>\n",
       "      <th>var_rss13</th>\n",
       "      <th>var_rss23</th>\n",
       "      <th>label</th>\n",
       "    </tr>\n",
       "  </thead>\n",
       "  <tbody>\n",
       "    <tr>\n",
       "      <th>0</th>\n",
       "      <td>0.43</td>\n",
       "      <td>0.43</td>\n",
       "      <td>1.30</td>\n",
       "      <td>0</td>\n",
       "    </tr>\n",
       "    <tr>\n",
       "      <th>1</th>\n",
       "      <td>0.43</td>\n",
       "      <td>0.00</td>\n",
       "      <td>0.00</td>\n",
       "      <td>0</td>\n",
       "    </tr>\n",
       "    <tr>\n",
       "      <th>2</th>\n",
       "      <td>0.43</td>\n",
       "      <td>0.43</td>\n",
       "      <td>0.00</td>\n",
       "      <td>0</td>\n",
       "    </tr>\n",
       "    <tr>\n",
       "      <th>3</th>\n",
       "      <td>0.50</td>\n",
       "      <td>0.71</td>\n",
       "      <td>0.00</td>\n",
       "      <td>0</td>\n",
       "    </tr>\n",
       "    <tr>\n",
       "      <th>4</th>\n",
       "      <td>0.50</td>\n",
       "      <td>0.00</td>\n",
       "      <td>0.00</td>\n",
       "      <td>0</td>\n",
       "    </tr>\n",
       "    <tr>\n",
       "      <th>...</th>\n",
       "      <td>...</td>\n",
       "      <td>...</td>\n",
       "      <td>...</td>\n",
       "      <td>...</td>\n",
       "    </tr>\n",
       "    <tr>\n",
       "      <th>475</th>\n",
       "      <td>1.66</td>\n",
       "      <td>3.20</td>\n",
       "      <td>4.44</td>\n",
       "      <td>6</td>\n",
       "    </tr>\n",
       "    <tr>\n",
       "      <th>476</th>\n",
       "      <td>1.25</td>\n",
       "      <td>0.94</td>\n",
       "      <td>4.00</td>\n",
       "      <td>6</td>\n",
       "    </tr>\n",
       "    <tr>\n",
       "      <th>477</th>\n",
       "      <td>7.68</td>\n",
       "      <td>2.48</td>\n",
       "      <td>0.83</td>\n",
       "      <td>6</td>\n",
       "    </tr>\n",
       "    <tr>\n",
       "      <th>478</th>\n",
       "      <td>1.30</td>\n",
       "      <td>5.21</td>\n",
       "      <td>2.69</td>\n",
       "      <td>6</td>\n",
       "    </tr>\n",
       "    <tr>\n",
       "      <th>479</th>\n",
       "      <td>3.09</td>\n",
       "      <td>0.47</td>\n",
       "      <td>3.16</td>\n",
       "      <td>6</td>\n",
       "    </tr>\n",
       "  </tbody>\n",
       "</table>\n",
       "<p>42237 rows × 4 columns</p>\n",
       "</div>"
      ],
      "text/plain": [
       "     var_rss12  var_rss13  var_rss23  label\n",
       "0         0.43       0.43       1.30      0\n",
       "1         0.43       0.00       0.00      0\n",
       "2         0.43       0.43       0.00      0\n",
       "3         0.50       0.71       0.00      0\n",
       "4         0.50       0.00       0.00      0\n",
       "..         ...        ...        ...    ...\n",
       "475       1.66       3.20       4.44      6\n",
       "476       1.25       0.94       4.00      6\n",
       "477       7.68       2.48       0.83      6\n",
       "478       1.30       5.21       2.69      6\n",
       "479       3.09       0.47       3.16      6\n",
       "\n",
       "[42237 rows x 4 columns]"
      ]
     },
     "execution_count": 9,
     "metadata": {},
     "output_type": "execute_result"
    }
   ],
   "source": [
    "dataframe"
   ]
  },
  {
   "cell_type": "code",
   "execution_count": 10,
   "id": "93e58457",
   "metadata": {},
   "outputs": [
    {
     "data": {
      "text/plain": [
       "<AxesSubplot:>"
      ]
     },
     "execution_count": 10,
     "metadata": {},
     "output_type": "execute_result"
    },
    {
     "data": {
      "image/png": "[encoded data removed]",
      "text/plain": [
       "<Figure size 1440x1440 with 1 Axes>"
      ]
     },
     "metadata": {
      "needs_background": "light"
     },
     "output_type": "display_data"
    }
   ],
   "source": [
    "fig, ax = plt.subplots(figsize=(20,20))\n",
    "sns.boxplot(data=dataframe, ax=ax)"
   ]
  },
  {
   "cell_type": "code",
   "execution_count": 11,
   "id": "cd82d087",
   "metadata": {},
   "outputs": [],
   "source": [
    "q = dataframe['var_rss12'].quantile(.95)\n",
    "df_new = dataframe[dataframe['var_rss12'] < q]"
   ]
  },
  {
   "cell_type": "code",
   "execution_count": 12,
   "id": "c671aae0",
   "metadata": {},
   "outputs": [
    {
     "data": {
      "text/plain": [
       "<AxesSubplot:>"
      ]
     },
     "execution_count": 12,
     "metadata": {},
     "output_type": "execute_result"
    },
    {
     "data": {
      "image/png": "[encoded data removed]",
      "text/plain": [
       "<Figure size 1440x1440 with 1 Axes>"
      ]
     },
     "metadata": {
      "needs_background": "light"
     },
     "output_type": "display_data"
    }
   ],
   "source": [
    "fig, ax = plt.subplots(figsize=(20,20))\n",
    "sns.boxplot(data=df_new, ax=ax)"
   ]
  },
  {
   "cell_type": "code",
   "execution_count": 13,
   "id": "9d99886f",
   "metadata": {},
   "outputs": [],
   "source": [
    "q = df_new['var_rss23'].quantile(.98)\n",
    "df_new = df_new[df_new['var_rss23'] < q]"
   ]
  },
  {
   "cell_type": "code",
   "execution_count": 14,
   "id": "650a31fa",
   "metadata": {},
   "outputs": [
    {
     "data": {
      "text/plain": [
       "<AxesSubplot:>"
      ]
     },
     "execution_count": 14,
     "metadata": {},
     "output_type": "execute_result"
    },
    {
     "data": {
      "image/png": "[encoded data removed]",
      "text/plain": [
       "<Figure size 1440x1440 with 1 Axes>"
      ]
     },
     "metadata": {
      "needs_background": "light"
     },
     "output_type": "display_data"
    }
   ],
   "source": [
    "fig, ax = plt.subplots(figsize=(20,20))\n",
    "sns.boxplot(data=df_new, ax=ax)"
   ]
  },
  {
   "cell_type": "code",
   "execution_count": 28,
   "id": "a8e2bf6c",
   "metadata": {},
   "outputs": [],
   "source": [
    "q = df_new['var_rss13'].quantile(.98)\n",
    "df_new = df_new[df_new['var_rss13'] < q]"
   ]
  },
  {
   "cell_type": "code",
   "execution_count": 29,
   "id": "a20edbd0",
   "metadata": {},
   "outputs": [
    {
     "data": {
      "text/plain": [
       "<AxesSubplot:>"
      ]
     },
     "execution_count": 29,
     "metadata": {},
     "output_type": "execute_result"
    },
    {
     "data": {
      "image/png": "[encoded data removed]",
      "text/plain": [
       "<Figure size 1440x1440 with 1 Axes>"
      ]
     },
     "metadata": {
      "needs_background": "light"
     },
     "output_type": "display_data"
    }
   ],
   "source": [
    "fig, ax = plt.subplots(figsize=(20,20))\n",
    "sns.boxplot(data=df_new, ax=ax)"
   ]
  },
  {
   "cell_type": "code",
   "execution_count": 31,
   "id": "445c28c5",
   "metadata": {},
   "outputs": [
    {
     "data": {
      "text/html": [
       "<div>\n",
       "<style scoped>\n",
       "    .dataframe tbody tr th:only-of-type {\n",
       "        vertical-align: middle;\n",
       "    }\n",
       "\n",
       "    .dataframe tbody tr th {\n",
       "        vertical-align: top;\n",
       "    }\n",
       "\n",
       "    .dataframe thead th {\n",
       "        text-align: right;\n",
       "    }\n",
       "</style>\n",
       "<table border=\"1\" class=\"dataframe\">\n",
       "  <thead>\n",
       "    <tr style=\"text-align: right;\">\n",
       "      <th></th>\n",
       "      <th>var_rss12</th>\n",
       "      <th>var_rss13</th>\n",
       "      <th>var_rss23</th>\n",
       "      <th>label</th>\n",
       "    </tr>\n",
       "  </thead>\n",
       "  <tbody>\n",
       "    <tr>\n",
       "      <th>0</th>\n",
       "      <td>0.43</td>\n",
       "      <td>0.43</td>\n",
       "      <td>1.30</td>\n",
       "      <td>0</td>\n",
       "    </tr>\n",
       "    <tr>\n",
       "      <th>1</th>\n",
       "      <td>0.43</td>\n",
       "      <td>0.00</td>\n",
       "      <td>0.00</td>\n",
       "      <td>0</td>\n",
       "    </tr>\n",
       "    <tr>\n",
       "      <th>2</th>\n",
       "      <td>0.43</td>\n",
       "      <td>0.43</td>\n",
       "      <td>0.00</td>\n",
       "      <td>0</td>\n",
       "    </tr>\n",
       "    <tr>\n",
       "      <th>3</th>\n",
       "      <td>0.50</td>\n",
       "      <td>0.71</td>\n",
       "      <td>0.00</td>\n",
       "      <td>0</td>\n",
       "    </tr>\n",
       "    <tr>\n",
       "      <th>4</th>\n",
       "      <td>0.50</td>\n",
       "      <td>0.00</td>\n",
       "      <td>0.00</td>\n",
       "      <td>0</td>\n",
       "    </tr>\n",
       "    <tr>\n",
       "      <th>...</th>\n",
       "      <td>...</td>\n",
       "      <td>...</td>\n",
       "      <td>...</td>\n",
       "      <td>...</td>\n",
       "    </tr>\n",
       "    <tr>\n",
       "      <th>473</th>\n",
       "      <td>2.45</td>\n",
       "      <td>4.55</td>\n",
       "      <td>3.40</td>\n",
       "      <td>6</td>\n",
       "    </tr>\n",
       "    <tr>\n",
       "      <th>475</th>\n",
       "      <td>1.66</td>\n",
       "      <td>3.20</td>\n",
       "      <td>4.44</td>\n",
       "      <td>6</td>\n",
       "    </tr>\n",
       "    <tr>\n",
       "      <th>476</th>\n",
       "      <td>1.25</td>\n",
       "      <td>0.94</td>\n",
       "      <td>4.00</td>\n",
       "      <td>6</td>\n",
       "    </tr>\n",
       "    <tr>\n",
       "      <th>478</th>\n",
       "      <td>1.30</td>\n",
       "      <td>5.21</td>\n",
       "      <td>2.69</td>\n",
       "      <td>6</td>\n",
       "    </tr>\n",
       "    <tr>\n",
       "      <th>479</th>\n",
       "      <td>3.09</td>\n",
       "      <td>0.47</td>\n",
       "      <td>3.16</td>\n",
       "      <td>6</td>\n",
       "    </tr>\n",
       "  </tbody>\n",
       "</table>\n",
       "<p>38461 rows × 4 columns</p>\n",
       "</div>"
      ],
      "text/plain": [
       "     var_rss12  var_rss13  var_rss23  label\n",
       "0         0.43       0.43       1.30      0\n",
       "1         0.43       0.00       0.00      0\n",
       "2         0.43       0.43       0.00      0\n",
       "3         0.50       0.71       0.00      0\n",
       "4         0.50       0.00       0.00      0\n",
       "..         ...        ...        ...    ...\n",
       "473       2.45       4.55       3.40      6\n",
       "475       1.66       3.20       4.44      6\n",
       "476       1.25       0.94       4.00      6\n",
       "478       1.30       5.21       2.69      6\n",
       "479       3.09       0.47       3.16      6\n",
       "\n",
       "[38461 rows x 4 columns]"
      ]
     },
     "execution_count": 31,
     "metadata": {},
     "output_type": "execute_result"
    }
   ],
   "source": [
    "df_new"
   ]
  },
  {
   "cell_type": "code",
   "execution_count": 32,
   "id": "cab79c33",
   "metadata": {},
   "outputs": [],
   "source": [
    "x = df_new.drop(['label'], axis=1)\n",
    "y = df_new['label']"
   ]
  },
  {
   "cell_type": "code",
   "execution_count": 33,
   "id": "54d9ddc9",
   "metadata": {},
   "outputs": [],
   "source": [
    "x_train, x_test, y_train, y_test = train_test_split(x, y, test_size=0.3, random_state=42)"
   ]
  },
  {
   "cell_type": "code",
   "execution_count": 34,
   "id": "56cc70c3",
   "metadata": {},
   "outputs": [
    {
     "data": {
      "text/plain": [
       "LogisticRegression(solver='saga')"
      ]
     },
     "execution_count": 34,
     "metadata": {},
     "output_type": "execute_result"
    }
   ],
   "source": [
    "logistic = LogisticRegression(solver='saga')\n",
    "logistic.fit(x_train, y_train)"
   ]
  },
  {
   "cell_type": "code",
   "execution_count": 35,
   "id": "1d1f736b",
   "metadata": {},
   "outputs": [],
   "source": [
    "y_pred = logistic.predict(x_test)"
   ]
  },
  {
   "cell_type": "code",
   "execution_count": 36,
   "id": "eb1138dc",
   "metadata": {},
   "outputs": [
    {
     "data": {
      "text/plain": [
       "array([[  49,    0,   34,  592,  155,  187,    0],\n",
       "       [  12,    3,  209,  283,  145,  212,    2],\n",
       "       [  25,   10, 1107,    7,   86,   63,  477],\n",
       "       [  27,    1,   35, 1297,  297,  498,    2],\n",
       "       [  32,    1,  103,  926,  456,  605,    2],\n",
       "       [  11,    3,   88,  919,  339,  791,    2],\n",
       "       [   6,    1,  692,    0,   18,   12,  717]], dtype=int64)"
      ]
     },
     "execution_count": 36,
     "metadata": {},
     "output_type": "execute_result"
    }
   ],
   "source": [
    "confusion_matrix(y_test, y_pred)"
   ]
  },
  {
   "cell_type": "code",
   "execution_count": 37,
   "id": "867d8093",
   "metadata": {},
   "outputs": [
    {
     "data": {
      "text/plain": [
       "0.38304879105641737"
      ]
     },
     "execution_count": 37,
     "metadata": {},
     "output_type": "execute_result"
    }
   ],
   "source": [
    "accuracy_score(y_test, y_pred)"
   ]
  },
  {
   "cell_type": "code",
   "execution_count": 38,
   "id": "cb1ba14e",
   "metadata": {},
   "outputs": [
    {
     "data": {
      "text/plain": [
       "0.7732965478880961"
      ]
     },
     "execution_count": 38,
     "metadata": {},
     "output_type": "execute_result"
    }
   ],
   "source": [
    "roc_auc_score(y_test, logistic.predict_proba(x_test), multi_class='ovr')"
   ]
  },
  {
   "cell_type": "code",
   "execution_count": 39,
   "id": "7dccfa91",
   "metadata": {},
   "outputs": [
    {
     "data": {
      "text/plain": [
       "LogisticRegression(solver='sag')"
      ]
     },
     "execution_count": 39,
     "metadata": {},
     "output_type": "execute_result"
    }
   ],
   "source": [
    "logistic_sag = LogisticRegression(solver='sag')\n",
    "logistic_sag.fit(x_train, y_train)"
   ]
  },
  {
   "cell_type": "code",
   "execution_count": 40,
   "id": "b56044a8",
   "metadata": {},
   "outputs": [],
   "source": [
    "y_pred = logistic_sag.predict(x_test)"
   ]
  },
  {
   "cell_type": "code",
   "execution_count": 41,
   "id": "4d0c9cf8",
   "metadata": {},
   "outputs": [
    {
     "data": {
      "text/plain": [
       "array([[  49,    0,   34,  592,  155,  187,    0],\n",
       "       [  12,    3,  209,  283,  145,  212,    2],\n",
       "       [  25,   10, 1107,    7,   86,   63,  477],\n",
       "       [  27,    1,   35, 1297,  297,  498,    2],\n",
       "       [  32,    1,  103,  926,  456,  605,    2],\n",
       "       [  11,    3,   88,  919,  339,  791,    2],\n",
       "       [   6,    1,  693,    0,   18,   12,  716]], dtype=int64)"
      ]
     },
     "execution_count": 41,
     "metadata": {},
     "output_type": "execute_result"
    }
   ],
   "source": [
    "confusion_matrix(y_test, y_pred)"
   ]
  },
  {
   "cell_type": "code",
   "execution_count": 42,
   "id": "78da5451",
   "metadata": {},
   "outputs": [
    {
     "data": {
      "text/plain": [
       "0.3829621284340064"
      ]
     },
     "execution_count": 42,
     "metadata": {},
     "output_type": "execute_result"
    }
   ],
   "source": [
    "accuracy_score(y_test, y_pred)"
   ]
  },
  {
   "cell_type": "code",
   "execution_count": 43,
   "id": "2d3b09eb",
   "metadata": {},
   "outputs": [
    {
     "data": {
      "text/plain": [
       "0.7732980782766641"
      ]
     },
     "execution_count": 43,
     "metadata": {},
     "output_type": "execute_result"
    }
   ],
   "source": [
    "roc_auc_score(y_test, logistic_sag.predict_proba(x_test), multi_class='ovr')"
   ]
  },
  {
   "cell_type": "code",
   "execution_count": null,
   "id": "573dbc45",
   "metadata": {},
   "outputs": [],
   "source": []
  }
 ],
 "metadata": {
  "kernelspec": {
   "display_name": "Python 3",
   "language": "python",
   "name": "python3"
  },
  "language_info": {
   "codemirror_mode": {
    "name": "ipython",
    "version": 3
   },
   "file_extension": ".py",
   "mimetype": "text/x-python",
   "name": "python",
   "nbconvert_exporter": "python",
   "pygments_lexer": "ipython3",
   "version": "3.6.13"
  }
 },
 "nbformat": 4,
 "nbformat_minor": 5
}
